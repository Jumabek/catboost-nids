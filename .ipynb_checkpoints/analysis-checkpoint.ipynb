{
 "cells": [
  {
   "cell_type": "code",
   "execution_count": 1,
   "id": "b23f2072",
   "metadata": {},
   "outputs": [
    {
     "data": {
      "text/html": [
       "\n",
       "<style>\n",
       "    div#notebook-container    { width: 95%; }\n",
       "    div#menubar-container     { width: 65%; }\n",
       "    div#maintoolbar-container { width: 99%; }\n",
       "</style>\n"
      ],
      "text/plain": [
       "<IPython.core.display.HTML object>"
      ]
     },
     "metadata": {},
     "output_type": "display_data"
    }
   ],
   "source": [
    "\n",
    "from IPython.display import display, HTML\n",
    "\n",
    "display(HTML(data=\"\"\"\n",
    "<style>\n",
    "    div#notebook-container    { width: 95%; }\n",
    "    div#menubar-container     { width: 65%; }\n",
    "    div#maintoolbar-container { width: 99%; }\n",
    "</style>\n",
    "\"\"\"))"
   ]
  },
  {
   "cell_type": "markdown",
   "id": "adafad85",
   "metadata": {},
   "source": [
    "# install required libraries\n",
    "- not most libraries already shipped in anaconda "
   ]
  },
  {
   "cell_type": "code",
   "execution_count": 2,
   "id": "43c60568",
   "metadata": {},
   "outputs": [],
   "source": [
    "#!pip install catboost"
   ]
  },
  {
   "cell_type": "markdown",
   "id": "f8f256c3",
   "metadata": {},
   "source": [
    "## Explorative data analysis (EDA)\n",
    "we would like to answer following questions on CIC-IDS-2018\n",
    "- class distribution \n",
    "- distribution of the features\n",
    "    - nan values for each feature. Exclude mostly nan features\n",
    "    - their variance. exclude low variance features"
   ]
  },
  {
   "cell_type": "code",
   "execution_count": 3,
   "id": "56fa4eb4",
   "metadata": {},
   "outputs": [],
   "source": [
    "import pandas as pd\n",
    "from os.path import join\n",
    "from glob import glob"
   ]
  },
  {
   "cell_type": "code",
   "execution_count": 4,
   "id": "9302377c",
   "metadata": {},
   "outputs": [
    {
     "name": "stdout",
     "output_type": "stream",
     "text": [
      "/data/juma/data/net_intrusion/cic-ids-preprocessed/Friday-02-03-2018_TrafficForML_CICFlowMeter.csv\n",
      "/data/juma/data/net_intrusion/cic-ids-preprocessed/Wednesday-21-02-2018_TrafficForML_CICFlowMeter.csv\n",
      "/data/juma/data/net_intrusion/cic-ids-preprocessed/Thursday-01-03-2018_TrafficForML_CICFlowMeter.csv\n",
      "/data/juma/data/net_intrusion/cic-ids-preprocessed/Friday-23-02-2018_TrafficForML_CICFlowMeter.csv\n",
      "/data/juma/data/net_intrusion/cic-ids-preprocessed/Thursday-22-02-2018_TrafficForML_CICFlowMeter.csv\n",
      "/data/juma/data/net_intrusion/cic-ids-preprocessed/Wednesday-14-02-2018_TrafficForML_CICFlowMeter.csv\n",
      "/data/juma/data/net_intrusion/cic-ids-preprocessed/Friday-16-02-2018_TrafficForML_CICFlowMeter.csv\n",
      "/data/juma/data/net_intrusion/cic-ids-preprocessed/Thursday-15-02-2018_TrafficForML_CICFlowMeter.csv\n",
      "/data/juma/data/net_intrusion/cic-ids-preprocessed/Thuesday-20-02-2018_TrafficForML_CICFlowMeter.csv\n",
      "/data/juma/data/net_intrusion/cic-ids-preprocessed/Wednesday-28-02-2018_TrafficForML_CICFlowMeter.csv\n"
     ]
    }
   ],
   "source": [
    "dataroot = '/data/juma/data/net_intrusion/cic-ids-preprocessed'\n",
    "for fn in glob(join(dataroot,'*.csv')):\n",
    "    print(fn)"
   ]
  },
  {
   "cell_type": "code",
   "execution_count": 5,
   "id": "c1e76cba",
   "metadata": {},
   "outputs": [
    {
     "data": {
      "text/plain": [
       "Index(['Dst Port', 'Protocol', 'Timestamp', 'Flow Duration', 'Tot Fwd Pkts',\n",
       "       'Tot Bwd Pkts', 'TotLen Fwd Pkts', 'TotLen Bwd Pkts', 'Fwd Pkt Len Max',\n",
       "       'Fwd Pkt Len Min', 'Fwd Pkt Len Mean', 'Fwd Pkt Len Std',\n",
       "       'Bwd Pkt Len Max', 'Bwd Pkt Len Min', 'Bwd Pkt Len Mean',\n",
       "       'Bwd Pkt Len Std', 'Flow Byts/s', 'Flow Pkts/s', 'Flow IAT Mean',\n",
       "       'Flow IAT Std', 'Flow IAT Max', 'Flow IAT Min', 'Fwd IAT Tot',\n",
       "       'Fwd IAT Mean', 'Fwd IAT Std', 'Fwd IAT Max', 'Fwd IAT Min',\n",
       "       'Bwd IAT Tot', 'Bwd IAT Mean', 'Bwd IAT Std', 'Bwd IAT Max',\n",
       "       'Bwd IAT Min', 'Fwd PSH Flags', 'Bwd PSH Flags', 'Fwd URG Flags',\n",
       "       'Bwd URG Flags', 'Fwd Header Len', 'Bwd Header Len', 'Fwd Pkts/s',\n",
       "       'Bwd Pkts/s', 'Pkt Len Min', 'Pkt Len Max', 'Pkt Len Mean',\n",
       "       'Pkt Len Std', 'Pkt Len Var', 'FIN Flag Cnt', 'SYN Flag Cnt',\n",
       "       'RST Flag Cnt', 'PSH Flag Cnt', 'ACK Flag Cnt', 'URG Flag Cnt',\n",
       "       'CWE Flag Count', 'ECE Flag Cnt', 'Down/Up Ratio', 'Pkt Size Avg',\n",
       "       'Fwd Seg Size Avg', 'Bwd Seg Size Avg', 'Fwd Byts/b Avg',\n",
       "       'Fwd Pkts/b Avg', 'Fwd Blk Rate Avg', 'Bwd Byts/b Avg',\n",
       "       'Bwd Pkts/b Avg', 'Bwd Blk Rate Avg', 'Subflow Fwd Pkts',\n",
       "       'Subflow Fwd Byts', 'Subflow Bwd Pkts', 'Subflow Bwd Byts',\n",
       "       'Init Fwd Win Byts', 'Init Bwd Win Byts', 'Fwd Act Data Pkts',\n",
       "       'Fwd Seg Size Min', 'Active Mean', 'Active Std', 'Active Max',\n",
       "       'Active Min', 'Idle Mean', 'Idle Std', 'Idle Max', 'Idle Min', 'Label'],\n",
       "      dtype='object')"
      ]
     },
     "execution_count": 5,
     "metadata": {},
     "output_type": "execute_result"
    }
   ],
   "source": [
    "temp = pd.read_csv('/data/juma/data/net_intrusion/cic-ids-preprocessed/Friday-02-03-2018_TrafficForML_CICFlowMeter.csv', nrows=10)\n",
    "temp.columns"
   ]
  },
  {
   "cell_type": "code",
   "execution_count": 6,
   "id": "c6ae1142",
   "metadata": {},
   "outputs": [],
   "source": [
    "DTYPES = {'Dst Port':str, 'Protocol':str, 'Timestamp':str, 'Flow Duration':float, 'Tot Fwd Pkts':int,\n",
    "       'Tot Bwd Pkts':int, 'TotLen Fwd Pkts':int, 'TotLen Bwd Pkts':int, 'Fwd Pkt Len Max':int,\n",
    "       'Fwd Pkt Len Min':int, 'Fwd Pkt Len Mean':float, 'Fwd Pkt Len Std':int,\n",
    "       'Bwd Pkt Len Max':int, 'Bwd Pkt Len Min':int, 'Bwd Pkt Len Mean':float,\n",
    "       'Bwd Pkt Len Std':float, 'Flow Byts/s':float, 'Flow Pkts/s':float, 'Flow IAT Mean':float,\n",
    "       'Flow IAT Std':float, 'Flow IAT Max':int, 'Flow IAT Min':int, 'Fwd IAT Tot':int,\n",
    "       'Fwd IAT Mean':float, 'Fwd IAT Std':float, 'Fwd IAT Max':int, 'Fwd IAT Min':int,\n",
    "       'Bwd IAT Tot':int, 'Bwd IAT Mean':float, 'Bwd IAT Std':float, 'Bwd IAT Max':int,\n",
    "       'Bwd IAT Min':int, 'Fwd PSH Flags':int, 'Bwd PSH Flags':int, 'Fwd URG Flags':int,\n",
    "       'Bwd URG Flags':int, 'Fwd Header Len':int, 'Bwd Header Len':int, 'Fwd Pkts/s':float,\n",
    "       'Bwd Pkts/s':float, 'Pkt Len Min':int, 'Pkt Len Max':int, 'Pkt Len Mean':float,\n",
    "       'Pkt Len Std':float, 'Pkt Len Var':float, 'FIN Flag Cnt':int, 'SYN Flag Cnt':int,\n",
    "       'RST Flag Cnt':int, 'PSH Flag Cnt':int, 'ACK Flag Cnt':int, 'URG Flag Cnt':int,\n",
    "       'CWE Flag Count':int, 'ECE Flag Cnt':int, 'Down/Up Ratio':float, 'Pkt Size Avg':float,\n",
    "       'Fwd Seg Size Avg':float, 'Bwd Seg Size Avg':float, 'Fwd Byts/b Avg':float,\n",
    "       'Fwd Pkts/b Avg':float, 'Fwd Blk Rate Avg':float, 'Bwd Byts/b Avg':float,\n",
    "       'Bwd Pkts/b Avg':float, 'Bwd Blk Rate Avg':float, 'Subflow Fwd Pkts':int,\n",
    "       'Subflow Fwd Byts':int, 'Subflow Bwd Pkts':int, 'Subflow Bwd Byts':int,\n",
    "       'Init Fwd Win Byts':int, 'Init Bwd Win Byts':int, 'Fwd Act Data Pkts':int,\n",
    "       'Fwd Seg Size Min':int, 'Active Mean':float, 'Active Std':float, 'Active Max':int,\n",
    "       'Active Min':int, 'Idle Mean':float, 'Idle Std':float, 'Idle Max':int, 'Idle Min':int, 'Label':str}"
   ]
  },
  {
   "cell_type": "markdown",
   "id": "99b59048",
   "metadata": {},
   "source": [
    "### class distribution"
   ]
  },
  {
   "cell_type": "code",
   "execution_count": 8,
   "id": "5246bea7",
   "metadata": {},
   "outputs": [],
   "source": [
    "from collections import defaultdict\n",
    "label_dist = defaultdict(lambda: 0)\n",
    "for fn in glob(join(dataroot,'*.csv')):\n",
    "    cnts = pd.read_csv(fn, usecols=['Label'], dtype=DTYPES).Label.value_counts()\n",
    "    for lbl in cnts.index:\n",
    "        label_dist[lbl]+=cnts[lbl]        "
   ]
  },
  {
   "cell_type": "code",
   "execution_count": 9,
   "id": "41b1595c",
   "metadata": {},
   "outputs": [
    {
     "data": {
      "text/plain": [
       "defaultdict(<function __main__.<lambda>()>,\n",
       "            {'Benign': 13484708,\n",
       "             'Bot': 286191,\n",
       "             'DDOS attack-HOIC': 686012,\n",
       "             'DDOS attack-LOIC-UDP': 1730,\n",
       "             'Infilteration': 161934,\n",
       "             'Label': 59,\n",
       "             'Brute Force -Web': 611,\n",
       "             'Brute Force -XSS': 230,\n",
       "             'SQL Injection': 87,\n",
       "             'FTP-BruteForce': 193360,\n",
       "             'SSH-Bruteforce': 187589,\n",
       "             'DoS attacks-Hulk': 461912,\n",
       "             'DoS attacks-SlowHTTPTest': 139890,\n",
       "             'DoS attacks-GoldenEye': 41508,\n",
       "             'DoS attacks-Slowloris': 10990,\n",
       "             'DDoS attacks-LOIC-HTTP': 576191})"
      ]
     },
     "execution_count": 9,
     "metadata": {},
     "output_type": "execute_result"
    }
   ],
   "source": [
    "label_dist"
   ]
  },
  {
   "cell_type": "code",
   "execution_count": 38,
   "id": "6ef06aab",
   "metadata": {},
   "outputs": [
    {
     "data": {
      "text/plain": [
       "dict_keys(['Benign', 'Bot', 'DDOS attack-HOIC', 'DDOS attack-LOIC-UDP', 'Infilteration', 'Label', 'Brute Force -Web', 'Brute Force -XSS', 'SQL Injection', 'FTP-BruteForce', 'SSH-Bruteforce', 'DoS attacks-Hulk', 'DoS attacks-SlowHTTPTest', 'DoS attacks-GoldenEye', 'DoS attacks-Slowloris', 'DDoS attacks-LOIC-HTTP'])"
      ]
     },
     "execution_count": 38,
     "metadata": {},
     "output_type": "execute_result"
    }
   ],
   "source": [
    "label_dist.keys()"
   ]
  },
  {
   "cell_type": "code",
   "execution_count": 39,
   "id": "a10a3da1",
   "metadata": {},
   "outputs": [
    {
     "data": {
      "text/plain": [
       "dict_values([13484708, 286191, 686012, 1730, 161934, 59, 611, 230, 87, 193360, 187589, 461912, 139890, 41508, 10990, 576191])"
      ]
     },
     "execution_count": 39,
     "metadata": {},
     "output_type": "execute_result"
    }
   ],
   "source": [
    "label_dist.values()"
   ]
  },
  {
   "cell_type": "code",
   "execution_count": 43,
   "id": "57e6d68a",
   "metadata": {},
   "outputs": [],
   "source": [
    "df = pd.DataFrame({'categories':label_dist.keys(),'counts':label_dist.values()})\n",
    "df = df[df.categories!='Label']\n",
    "outfile = 'class_distribution.png'"
   ]
  },
  {
   "cell_type": "code",
   "execution_count": 40,
   "id": "921fa7b5",
   "metadata": {},
   "outputs": [
    {
     "name": "stdout",
     "output_type": "stream",
     "text": [
      "The rpy2.ipython extension is already loaded. To reload it, use:\n",
      "  %reload_ext rpy2.ipython\n"
     ]
    }
   ],
   "source": [
    "%load_ext rpy2.ipython"
   ]
  },
  {
   "cell_type": "code",
   "execution_count": 41,
   "id": "21379d1d",
   "metadata": {},
   "outputs": [],
   "source": [
    "%%R \n",
    "library (tibble)\n",
    "library(dplyr)\n",
    "library(forcats)\n",
    "library(tidyr)\n",
    "library(purrr)\n",
    "library(psych)\n",
    "library(stringr)\n",
    "library(ggplot2)\n",
    "\n",
    "THEME_DEFAULT <- theme_bw(\n",
    "    base_size=10,\n",
    "    base_family='Arial'\n",
    ") +\n",
    "theme(\n",
    "    axis.title.x=element_text(colour=\"grey20\",size=13,angle=0,hjust=.5,vjust=.5, face=\"bold\"),\n",
    "    axis.title.y=element_text(colour=\"grey20\",size=13,angle=90,hjust=.5,vjust=1, face=\"bold\"),\n",
    "    axis.text.x=element_text(colour=\"grey20\",size=11,angle=0,hjust=.5,vjust=.5),\n",
    "    axis.text.y=element_text(colour=\"grey20\",size=11,angle=0,hjust=.5,vjust=.5),\n",
    "    strip.text.x=element_text(colour=\"grey20\",size=13,angle=0,hjust=0.5,vjust=.25, face=\"bold\"),\n",
    "    strip.text.y=element_text(colour=\"grey20\",size=13,angle=270,hjust=.5,vjust=.5, face=\"bold\"),\n",
    "    legend.title=element_text(colour=\"grey20\",size=13,angle=0,hjust=0.5,vjust=.5,face=\"bold\"),\n",
    "    legend.position='top'\n",
    ")"
   ]
  },
  {
   "cell_type": "code",
   "execution_count": 32,
   "id": "4932b856",
   "metadata": {},
   "outputs": [],
   "source": [
    "\n",
    "%%R\n",
    "library(ggsci) \n",
    "library(ggpubr)"
   ]
  },
  {
   "cell_type": "code",
   "execution_count": 48,
   "id": "72fabc68",
   "metadata": {},
   "outputs": [
    {
     "data": {
      "image/png": "[encoded data removed]"
     },
     "metadata": {},
     "output_type": "display_data"
    }
   ],
   "source": [
    "%%R -i df -w 60 -h 30 -u cm -i outfile\n",
    "\n",
    "p <- ggplot(df,aes(fill=reorder(categories,counts),y=counts,x=reorder(categories,-counts)))+\n",
    "    geom_bar(position=\"dodge\", stat=\"identity\", width=0.7)+\n",
    "    labs(\n",
    "            y='Flow record counts (log10 scale )'\n",
    "        ) + \n",
    "    scale_y_log10()+\n",
    "       theme_pubr()+\n",
    "        THEME_DEFAULT+\n",
    "        theme(\n",
    "            legend.title =element_text(size=18) ,\n",
    "            legend.text=element_text(colour=\"grey20\", size=18, angle=0, hjust=.0, face='bold'),\n",
    "            legend.spacing.x = unit(1.0, 'cm'),\n",
    "            panel.grid.major.y = element_line(size=0.25, linetype='solid', color='grey'),\n",
    "            panel.grid.minor.y = element_line(size=0.01, linetype='solid', color='grey'),\n",
    "            axis.text.x = element_text(size=20, angle=90,margin = margin(r = 10)),\n",
    "            axis.text.y = element_text(size=20),\n",
    "            axis.title.y = element_text(size=25),\n",
    "            axis.title.x = element_blank(),\n",
    "            strip.text.y = element_text(size=25)\n",
    "        )+\n",
    "        coord_cartesian(clip = \"off\")+\n",
    "        guides(color=guide_legend(nrow=1,byrow=TRUE))+\n",
    "        guides(fill=guide_legend(title='Flow Label (Category):', size=30))\n",
    "print(p)\n",
    "ggsave(outfile, p, width=60, height=30, units='cm', dpi=500)"
   ]
  },
  {
   "cell_type": "code",
   "execution_count": null,
   "id": "f448b693",
   "metadata": {},
   "outputs": [],
   "source": []
  }
 ],
 "metadata": {
  "kernelspec": {
   "display_name": "boost-nids",
   "language": "python",
   "name": "boost-nids"
  },
  "language_info": {
   "codemirror_mode": {
    "name": "ipython",
    "version": 3
   },
   "file_extension": ".py",
   "mimetype": "text/x-python",
   "name": "python",
   "nbconvert_exporter": "python",
   "pygments_lexer": "ipython3",
   "version": "3.7.10"
  }
 },
 "nbformat": 4,
 "nbformat_minor": 5
}
