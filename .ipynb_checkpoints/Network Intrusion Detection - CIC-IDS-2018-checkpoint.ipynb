{
 "cells": [
  {
   "cell_type": "code",
   "execution_count": 1,
   "id": "b23f2072",
   "metadata": {},
   "outputs": [
    {
     "data": {
      "text/html": [
       "\n",
       "<style>\n",
       "    div#notebook-container    { width: 95%; }\n",
       "    div#menubar-container     { width: 65%; }\n",
       "    div#maintoolbar-container { width: 99%; }\n",
       "</style>\n"
      ],
      "text/plain": [
       "<IPython.core.display.HTML object>"
      ]
     },
     "metadata": {},
     "output_type": "display_data"
    }
   ],
   "source": [
    "\n",
    "from IPython.display import display, HTML\n",
    "\n",
    "display(HTML(data=\"\"\"\n",
    "<style>\n",
    "    div#notebook-container    { width: 95%; }\n",
    "    div#menubar-container     { width: 65%; }\n",
    "    div#maintoolbar-container { width: 99%; }\n",
    "</style>\n",
    "\"\"\"))"
   ]
  },
  {
   "cell_type": "markdown",
   "id": "adafad85",
   "metadata": {},
   "source": [
    "# install required libraries\n",
    "- most libraries already shipped in anaconda "
   ]
  },
  {
   "cell_type": "code",
   "execution_count": 4,
   "id": "6455ca6a",
   "metadata": {},
   "outputs": [],
   "source": [
    "#! pip install catboost"
   ]
  },
  {
   "cell_type": "markdown",
   "id": "b42a4886",
   "metadata": {},
   "source": [
    "# Data acqusition\n",
    "- Please download the only CSV files from CIC-IDS-2018 dataset as shown in our paper \"CatBoost-based network intrusion detection on imbalanced CIC-IDS-2018 dataset\"\n",
    "- store it in corresponding folder. In my case it is `/data/juma/data/net_intrusion/cic-ids-2018/original/`"
   ]
  },
  {
   "cell_type": "markdown",
   "id": "f8f256c3",
   "metadata": {},
   "source": [
    "## Explorative data analysis (EDA)\n",
    "we would like to answer following questions on CIC-IDS-2018\n",
    "- class distribution \n",
    "- distribution of the features\n",
    "    - nan values for each feature. Exclude mostly nan features\n",
    "    - their variance. exclude low variance features"
   ]
  },
  {
   "cell_type": "code",
   "execution_count": 1,
   "id": "56fa4eb4",
   "metadata": {},
   "outputs": [],
   "source": [
    "import pandas as pd\n",
    "from os.path import join\n",
    "from glob import glob\n",
    "import ntpath\n",
    "from tqdm import tqdm\n",
    "from collections import defaultdict\n",
    "\n",
    "dataroot = '/data/juma/data/net_intrusion/cic-ids-2018/original/'\n",
    "pdataroot = '/data/juma/data/net_intrusion/cic-ids-2018/preprocessed/' \n"
   ]
  },
  {
   "cell_type": "markdown",
   "id": "e1afebf5",
   "metadata": {},
   "source": [
    "## pre-processing\n",
    "- filter out bad rows\n",
    "- filter out unnecassary columns\n",
    "- to workaraound memory error I am reducing the datasize to 10% of original size"
   ]
  },
  {
   "cell_type": "code",
   "execution_count": 2,
   "id": "c6ae1142",
   "metadata": {},
   "outputs": [],
   "source": [
    "# note, specifying dtype reduces loading speed of dataframe\n",
    "DTYPES = {'Dst Port':str, 'Protocol':str, 'Timestamp':str, 'Flow Duration':float, 'Tot Fwd Pkts':int,\n",
    "       'Tot Bwd Pkts':int, 'TotLen Fwd Pkts':int, 'TotLen Bwd Pkts':int, 'Fwd Pkt Len Max':int,\n",
    "       'Fwd Pkt Len Min':int, 'Fwd Pkt Len Mean':float, 'Fwd Pkt Len Std':float,\n",
    "       'Bwd Pkt Len Max':int, 'Bwd Pkt Len Min':int, 'Bwd Pkt Len Mean':float,\n",
    "       'Bwd Pkt Len Std':float, 'Flow Byts/s':float, 'Flow Pkts/s':float, 'Flow IAT Mean':float,\n",
    "       'Flow IAT Std':float, 'Flow IAT Max':int, 'Flow IAT Min':int, 'Fwd IAT Tot':int,\n",
    "       'Fwd IAT Mean':float, 'Fwd IAT Std':float, 'Fwd IAT Max':int, 'Fwd IAT Min':int,\n",
    "       'Bwd IAT Tot':int, 'Bwd IAT Mean':float, 'Bwd IAT Std':float, 'Bwd IAT Max':int,\n",
    "       'Bwd IAT Min':int, 'Fwd PSH Flags':int, 'Bwd PSH Flags':int, 'Fwd URG Flags':int,\n",
    "       'Bwd URG Flags':int, 'Fwd Header Len':int, 'Bwd Header Len':int, 'Fwd Pkts/s':float,\n",
    "       'Bwd Pkts/s':float, 'Pkt Len Min':int, 'Pkt Len Max':int, 'Pkt Len Mean':float,\n",
    "       'Pkt Len Std':float, 'Pkt Len Var':float, 'FIN Flag Cnt':int, 'SYN Flag Cnt':int,\n",
    "       'RST Flag Cnt':int, 'PSH Flag Cnt':int, 'ACK Flag Cnt':int, 'URG Flag Cnt':int,\n",
    "       'CWE Flag Count':int, 'ECE Flag Cnt':int, 'Down/Up Ratio':float, 'Pkt Size Avg':float,\n",
    "       'Fwd Seg Size Avg':float, 'Bwd Seg Size Avg':float, 'Fwd Byts/b Avg':float,\n",
    "       'Fwd Pkts/b Avg':float, 'Fwd Blk Rate Avg':float, 'Bwd Byts/b Avg':float,\n",
    "       'Bwd Pkts/b Avg':float, 'Bwd Blk Rate Avg':float, 'Subflow Fwd Pkts':int,\n",
    "       'Subflow Fwd Byts':int, 'Subflow Bwd Pkts':int, 'Subflow Bwd Byts':int,\n",
    "       'Init Fwd Win Byts':int, 'Init Bwd Win Byts':int, 'Fwd Act Data Pkts':int,\n",
    "       'Fwd Seg Size Min':int, 'Active Mean':float, 'Active Std':float, 'Active Max':int,\n",
    "       'Active Min':int, 'Idle Mean':float, 'Idle Std':float, 'Idle Max':int, 'Idle Min':int, 'Label':str}"
   ]
  },
  {
   "cell_type": "markdown",
   "id": "7b9eb947",
   "metadata": {},
   "source": [
    "### Filter out rows with erroneous records "
   ]
  },
  {
   "cell_type": "code",
   "execution_count": null,
   "id": "7abea013",
   "metadata": {},
   "outputs": [],
   "source": [
    "# file_paths = [fn for fn in glob(join(dataroot,'*.csv'))]\n",
    "\n",
    "# for fn in tqdm(file_paths):    \n",
    "#     df = pd.read_csv(fn, low_memory=False)\n",
    "#     df = df.sort_values(['Label'])\n",
    "#     N = df.shape[0]\n",
    "#     df = df.iloc[(-2*N)//10:,:] # removing first 90% of the rows which contain mostly Benign\n",
    "#     if 'Flow ID' in df.columns:\n",
    "#         df.drop(['Flow ID', 'Src IP', 'Src Port', 'Dst IP'],axis=1, inplace=True)\n",
    "    \n",
    "#     filtered_df = df[df['Flow Duration']!='Flow Duration']\n",
    "#     print(ntpath.basename(fn), df.shape[0]-filtered_df.shape[0], 'rows removed')\n",
    "\n",
    "#     filtered_df.drop(['Timestamp'],axis=1).to_csv(fn.replace('original','preprocessed'), index=False)"
   ]
  },
  {
   "cell_type": "markdown",
   "id": "99b59048",
   "metadata": {},
   "source": [
    "### class distribution"
   ]
  },
  {
   "cell_type": "code",
   "execution_count": 3,
   "id": "5246bea7",
   "metadata": {},
   "outputs": [
    {
     "name": "stderr",
     "output_type": "stream",
     "text": [
      "100%|██████████| 10/10 [00:06<00:00,  1.43it/s]\n"
     ]
    }
   ],
   "source": [
    "label_dist = defaultdict(lambda: 0)\n",
    "\n",
    "for fn in tqdm(glob(join(pdataroot,'*.csv'))):\n",
    "    for lbl, cnt in pd.read_csv(fn, usecols=['Label'], dtype=DTYPES).Label.value_counts().items():\n",
    "        label_dist[lbl]+=cnt        \n",
    "\n",
    "df = pd.DataFrame({'categories':label_dist.keys(),'counts':label_dist.values()})\n",
    "outfile = 'class_distribution.png'"
   ]
  },
  {
   "cell_type": "code",
   "execution_count": 4,
   "id": "bddc1fc0",
   "metadata": {},
   "outputs": [
    {
     "data": {
      "text/html": [
       "<div>\n",
       "<style scoped>\n",
       "    .dataframe tbody tr th:only-of-type {\n",
       "        vertical-align: middle;\n",
       "    }\n",
       "\n",
       "    .dataframe tbody tr th {\n",
       "        vertical-align: top;\n",
       "    }\n",
       "\n",
       "    .dataframe thead th {\n",
       "        text-align: right;\n",
       "    }\n",
       "</style>\n",
       "<table border=\"1\" class=\"dataframe\">\n",
       "  <thead>\n",
       "    <tr style=\"text-align: right;\">\n",
       "      <th></th>\n",
       "      <th>categories</th>\n",
       "      <th>counts</th>\n",
       "    </tr>\n",
       "  </thead>\n",
       "  <tbody>\n",
       "    <tr>\n",
       "      <th>0</th>\n",
       "      <td>Bot</td>\n",
       "      <td>209715</td>\n",
       "    </tr>\n",
       "    <tr>\n",
       "      <th>1</th>\n",
       "      <td>DDOS attack-HOIC</td>\n",
       "      <td>207985</td>\n",
       "    </tr>\n",
       "    <tr>\n",
       "      <th>2</th>\n",
       "      <td>DDOS attack-LOIC-UDP</td>\n",
       "      <td>1730</td>\n",
       "    </tr>\n",
       "    <tr>\n",
       "      <th>3</th>\n",
       "      <td>Infilteration</td>\n",
       "      <td>135071</td>\n",
       "    </tr>\n",
       "    <tr>\n",
       "      <th>4</th>\n",
       "      <td>Benign</td>\n",
       "      <td>1642995</td>\n",
       "    </tr>\n",
       "    <tr>\n",
       "      <th>5</th>\n",
       "      <td>Brute Force -Web</td>\n",
       "      <td>611</td>\n",
       "    </tr>\n",
       "    <tr>\n",
       "      <th>6</th>\n",
       "      <td>Brute Force -XSS</td>\n",
       "      <td>230</td>\n",
       "    </tr>\n",
       "    <tr>\n",
       "      <th>7</th>\n",
       "      <td>SQL Injection</td>\n",
       "      <td>87</td>\n",
       "    </tr>\n",
       "    <tr>\n",
       "      <th>8</th>\n",
       "      <td>SSH-Bruteforce</td>\n",
       "      <td>187589</td>\n",
       "    </tr>\n",
       "    <tr>\n",
       "      <th>9</th>\n",
       "      <td>FTP-BruteForce</td>\n",
       "      <td>22126</td>\n",
       "    </tr>\n",
       "    <tr>\n",
       "      <th>10</th>\n",
       "      <td>DoS attacks-SlowHTTPTest</td>\n",
       "      <td>139890</td>\n",
       "    </tr>\n",
       "    <tr>\n",
       "      <th>11</th>\n",
       "      <td>DoS attacks-Hulk</td>\n",
       "      <td>69824</td>\n",
       "    </tr>\n",
       "    <tr>\n",
       "      <th>12</th>\n",
       "      <td>DoS attacks-GoldenEye</td>\n",
       "      <td>41508</td>\n",
       "    </tr>\n",
       "    <tr>\n",
       "      <th>13</th>\n",
       "      <td>DoS attacks-Slowloris</td>\n",
       "      <td>10990</td>\n",
       "    </tr>\n",
       "    <tr>\n",
       "      <th>14</th>\n",
       "      <td>DDoS attacks-LOIC-HTTP</td>\n",
       "      <td>576191</td>\n",
       "    </tr>\n",
       "  </tbody>\n",
       "</table>\n",
       "</div>"
      ],
      "text/plain": [
       "                  categories   counts\n",
       "0                        Bot   209715\n",
       "1           DDOS attack-HOIC   207985\n",
       "2       DDOS attack-LOIC-UDP     1730\n",
       "3              Infilteration   135071\n",
       "4                     Benign  1642995\n",
       "5           Brute Force -Web      611\n",
       "6           Brute Force -XSS      230\n",
       "7              SQL Injection       87\n",
       "8             SSH-Bruteforce   187589\n",
       "9             FTP-BruteForce    22126\n",
       "10  DoS attacks-SlowHTTPTest   139890\n",
       "11          DoS attacks-Hulk    69824\n",
       "12     DoS attacks-GoldenEye    41508\n",
       "13     DoS attacks-Slowloris    10990\n",
       "14    DDoS attacks-LOIC-HTTP   576191"
      ]
     },
     "execution_count": 4,
     "metadata": {},
     "output_type": "execute_result"
    }
   ],
   "source": [
    "df"
   ]
  },
  {
   "cell_type": "code",
   "execution_count": null,
   "id": "5e0f620c",
   "metadata": {},
   "outputs": [],
   "source": []
  },
  {
   "cell_type": "markdown",
   "id": "ffcc4992",
   "metadata": {},
   "source": [
    "#### Lets plot the same thing in R, cuz it is fancier "
   ]
  },
  {
   "cell_type": "code",
   "execution_count": 5,
   "id": "921fa7b5",
   "metadata": {},
   "outputs": [],
   "source": [
    "%load_ext rpy2.ipython"
   ]
  },
  {
   "cell_type": "code",
   "execution_count": 6,
   "id": "53cb8048",
   "metadata": {},
   "outputs": [
    {
     "name": "stderr",
     "output_type": "stream",
     "text": [
      "R[write to console]: \n",
      "Attaching package: ‘dplyr’\n",
      "\n",
      "\n",
      "R[write to console]: The following objects are masked from ‘package:stats’:\n",
      "\n",
      "    filter, lag\n",
      "\n",
      "\n",
      "R[write to console]: The following objects are masked from ‘package:base’:\n",
      "\n",
      "    intersect, setdiff, setequal, union\n",
      "\n",
      "\n",
      "R[write to console]: \n",
      "Attaching package: ‘ggplot2’\n",
      "\n",
      "\n",
      "R[write to console]: The following objects are masked from ‘package:psych’:\n",
      "\n",
      "    %+%, alpha\n",
      "\n",
      "\n"
     ]
    }
   ],
   "source": [
    "%%R \n",
    "library (tibble)\n",
    "library(dplyr)\n",
    "library(forcats)\n",
    "library(tidyr)\n",
    "library(purrr)\n",
    "library(psych)\n",
    "library(stringr)\n",
    "library(ggplot2)\n",
    "library(ggsci) \n",
    "library(ggpubr)\n",
    "\n",
    "THEME_DEFAULT <- theme_bw(\n",
    "    base_size=10,\n",
    "    base_family='Arial'\n",
    ") +\n",
    "theme(\n",
    "    axis.title.x=element_text(colour=\"grey20\",size=13,angle=0,hjust=.5,vjust=.5, face=\"bold\"),\n",
    "    axis.title.y=element_text(colour=\"grey20\",size=13,angle=90,hjust=.5,vjust=1, face=\"bold\"),\n",
    "    axis.text.x=element_text(colour=\"grey20\",size=11,angle=0,hjust=.5,vjust=.5),\n",
    "    axis.text.y=element_text(colour=\"grey20\",size=11,angle=0,hjust=.5,vjust=.5),\n",
    "    strip.text.x=element_text(colour=\"grey20\",size=13,angle=0,hjust=0.5,vjust=.25, face=\"bold\"),\n",
    "    strip.text.y=element_text(colour=\"grey20\",size=13,angle=270,hjust=.5,vjust=.5, face=\"bold\"),\n",
    "#     legend.title=element_text(colour=\"grey20\",size=13,angle=0,hjust=0.5,vjust=.5,face=\"bold\"),\n",
    "#     legend.position='top'\n",
    ")"
   ]
  },
  {
   "cell_type": "code",
   "execution_count": 10,
   "id": "3a8a725b",
   "metadata": {},
   "outputs": [
    {
     "data": {
      "image/png": "[encoded data removed]"
     },
     "metadata": {},
     "output_type": "display_data"
    }
   ],
   "source": [
    "%%R -i df -w 30 -h 30 -u cm -i outfile\n",
    "\n",
    "p <- ggplot(df,aes(fill=reorder(categories,counts),y=counts,x=reorder(categories,-counts)))+\n",
    "    geom_bar(position=\"dodge\", stat=\"identity\", width=0.7)+\n",
    "    coord_flip()+\n",
    "    labs(\n",
    "            y='Flow record counts (log10 scale )'\n",
    "        ) + \n",
    "    scale_y_log10()+\n",
    "        THEME_DEFAULT+\n",
    "        theme(            \n",
    "            panel.grid.major.y = element_line(size=0.25, linetype='solid', color='grey'),\n",
    "            panel.grid.minor.y = element_line(size=0.01, linetype='solid', color='grey'),\n",
    "            axis.text.x = element_text(size=18,margin = margin(r = 10)),\n",
    "            axis.text.y = element_text(size=16),\n",
    "            axis.title.x = element_text(size=20),\n",
    "            axis.title.y = element_blank(),\n",
    "            strip.text.y = element_text(size=20),\n",
    "            legend.position=\"none\"\n",
    "        )\n",
    "print(p)\n",
    "ggsave(outfile, p, width=30, height=30, units='cm', dpi=500)"
   ]
  },
  {
   "cell_type": "markdown",
   "id": "514e27ce",
   "metadata": {},
   "source": [
    "# ML experiment"
   ]
  },
  {
   "cell_type": "code",
   "execution_count": null,
   "id": "15530d75",
   "metadata": {},
   "outputs": [],
   "source": [
    "from sklearn.metrics import balanced_accuracy_score, accuracy_score\n",
    "RANDOM_STATE = 42\n",
    "\n",
    "X = pd.concat([pd.read_csv(fn, dtype=DTYPES).drop(['Label'],axis=1) for fn in tqdm(glob(join(pdataroot,'*.csv')))])\n",
    "y = pd.concat([pd.read_csv(fn, dtype=DTYPES, usecols=['Label']) for fn in tqdm(glob(join(pdataroot,'*.csv')))])\n",
    "feature_names = X.columns.to_list()"
   ]
  },
  {
   "cell_type": "markdown",
   "id": "62d5a13e",
   "metadata": {},
   "source": [
    "### Handle Non-number and missing values"
   ]
  },
  {
   "cell_type": "code",
   "execution_count": null,
   "id": "1b850455",
   "metadata": {},
   "outputs": [],
   "source": [
    "import numpy as np\n",
    "cat_features = ['Dst Port','Protocol']\n",
    "X.replace([np.inf, -np.inf], np.nan, inplace=True)\n",
    "for c in tqdm(X.columns):\n",
    "    if c in cat_features:\n",
    "        continue\n",
    "    X[c].fillna((X[c].mean()), inplace=True)"
   ]
  },
  {
   "cell_type": "markdown",
   "id": "495f55db",
   "metadata": {},
   "source": [
    "### encode categoricals\n"
   ]
  },
  {
   "cell_type": "code",
   "execution_count": null,
   "id": "c5fd8bba",
   "metadata": {},
   "outputs": [],
   "source": [
    "from sklearn.preprocessing import OrdinalEncoder\n",
    "\n",
    "enc = OrdinalEncoder().fit(X[cat_features])\n",
    "X_enc = X.copy(deep=True)\n",
    "res = enc.transform(X[cat_features])\n",
    "X_enc['Dst Port'] = res[:,0]\n",
    "X_enc['Protocol'] = res[:,1]"
   ]
  },
  {
   "cell_type": "markdown",
   "id": "ea9bf5d9",
   "metadata": {},
   "source": [
    "### Data Split"
   ]
  },
  {
   "cell_type": "code",
   "execution_count": null,
   "id": "1f19d115",
   "metadata": {},
   "outputs": [],
   "source": [
    "from sklearn.model_selection import StratifiedKFold,  StratifiedShuffleSplit\n",
    "skf =  StratifiedShuffleSplit(n_splits=1, test_size=0.2)\n",
    "for train_index, test_index in skf.split(X, y):\n",
    "    print(train_index.shape[0]/test_index.shape[0])"
   ]
  },
  {
   "cell_type": "markdown",
   "id": "12c2a376",
   "metadata": {},
   "source": [
    "\n",
    "## Experiment I: Imbalanced setting "
   ]
  },
  {
   "cell_type": "markdown",
   "id": "986ff796",
   "metadata": {},
   "source": [
    "### Decision Tree"
   ]
  },
  {
   "cell_type": "code",
   "execution_count": null,
   "id": "5422ea68",
   "metadata": {},
   "outputs": [],
   "source": [
    "from sklearn.tree import DecisionTreeClassifier\n",
    "dt = DecisionTreeClassifier(random_state=RANDOM_STATE)\n",
    "\n",
    "dt.fit(X_enc.iloc[train_index], y.iloc[train_index])\n",
    "\n",
    "\n",
    "pred = dt.predict(X_enc.iloc[test_index])\n",
    "bal_acc = balanced_accuracy_score(y.iloc[test_index], pred)\n",
    "acc = accuracy_score(y.iloc[test_index], pred)\n",
    "bal_acc, acc"
   ]
  },
  {
   "cell_type": "markdown",
   "id": "19c13959",
   "metadata": {},
   "source": [
    "### Random Forest"
   ]
  },
  {
   "cell_type": "code",
   "execution_count": null,
   "id": "d4a1e177",
   "metadata": {},
   "outputs": [],
   "source": [
    "from sklearn.ensemble import RandomForestClassifier\n",
    "rf = RandomForestClassifier(max_depth=2, random_state=0)\n",
    "rf.fit(X_enc.iloc[train_index], y.iloc[train_index])\n",
    "\n",
    "pred = rf.predict(X_enc.iloc[test_index])\n",
    "accuracy_score(y.iloc[test_index], pred), balanced_accuracy_score(y.iloc[test_index], pred)"
   ]
  },
  {
   "cell_type": "markdown",
   "id": "6f59060f",
   "metadata": {},
   "source": [
    "### CatBoost"
   ]
  },
  {
   "cell_type": "code",
   "execution_count": null,
   "id": "29a22c6c",
   "metadata": {},
   "outputs": [],
   "source": [
    "import catboost\n",
    "cb_clf = catboost.CatBoostClassifier(\n",
    "           task_type = \"GPU\")\n",
    "\n",
    "skf =  StratifiedShuffleSplit(n_splits=1, test_size=.2)\n",
    "for dev_index, val_index in skf.split(X.iloc[train_index], y.iloc[train_index]):\n",
    "    pass\n",
    "dev_index.shape[0]/val_index.shape[0]\n",
    "    \n",
    "    \n",
    "d_dev = catboost.Pool(\n",
    "    data = X.iloc[train_index].iloc[dev_index],\n",
    "    label = y.iloc[train_index].iloc[dev_index],\n",
    "    feature_names = feature_names,\n",
    "    cat_features = cat_features\n",
    ")\n",
    "\n",
    "d_val = catboost.Pool(\n",
    "    data = X.iloc[train_index].iloc[val_index],\n",
    "    label = y.iloc[train_index].iloc[val_index],\n",
    "    feature_names = feature_names,\n",
    "    cat_features = cat_features\n",
    ")\n",
    "cb_clf.fit(X = d_dev,\n",
    "          use_best_model=True,\n",
    "           eval_set = d_val,\n",
    "           verbose_eval=False,\n",
    "           early_stopping_rounds=20,\n",
    "           plot=True\n",
    "          )\n",
    "\n",
    "pred = cb_clf.predict(X.iloc[test_index])\n",
    "balanced_accuracy_score(y.iloc[test_index], pred), accuracy_score(y.iloc[test_index], pred)\n"
   ]
  },
  {
   "cell_type": "markdown",
   "id": "6999660d",
   "metadata": {},
   "source": [
    "## Experiment II: Balanced setting"
   ]
  },
  {
   "cell_type": "code",
   "execution_count": null,
   "id": "b29300da",
   "metadata": {},
   "outputs": [],
   "source": [
    "from imblearn.over_sampling import RandomOverSampler\n",
    "ros = RandomOverSampler(random_state=0)\n",
    "X_train_resampled, y_train_resampled = ros.fit_resample(X_enc.iloc[train_index], y.iloc[train_index])"
   ]
  },
  {
   "cell_type": "markdown",
   "id": "3e13708f",
   "metadata": {},
   "source": [
    "### Decision Tree"
   ]
  },
  {
   "cell_type": "code",
   "execution_count": null,
   "id": "0925b05c",
   "metadata": {},
   "outputs": [],
   "source": [
    "from sklearn.tree import DecisionTreeClassifier\n",
    "dt = DecisionTreeClassifier(random_state=RANDOM_STATE)\n",
    "\n",
    "dt.fit(X_train_resampled, y_train_resampled)\n",
    "\n",
    "\n",
    "pred = dt.predict(X_enc.iloc[test_index])\n",
    "bal_acc = balanced_accuracy_score(y.iloc[test_index], pred)\n",
    "acc = accuracy_score(y.iloc[test_index], pred)\n",
    "bal_acc, acc"
   ]
  },
  {
   "cell_type": "markdown",
   "id": "0b241277",
   "metadata": {},
   "source": [
    "### Random Forest "
   ]
  },
  {
   "cell_type": "code",
   "execution_count": null,
   "id": "6f7d9164",
   "metadata": {},
   "outputs": [],
   "source": [
    "from sklearn.ensemble import RandomForestClassifier\n",
    "rf = RandomForestClassifier(max_depth=2, random_state=0)\n",
    "rf.fit(X_train_resampled, y_train_resampled)\n",
    "\n",
    "pred = rf.predict(X_enc.iloc[test_index])\n",
    "accuracy_score(y.iloc[test_index], pred), balanced_accuracy_score(y.iloc[test_index], pred)"
   ]
  },
  {
   "cell_type": "markdown",
   "id": "f04ab5bb",
   "metadata": {},
   "source": [
    "### CatBoost"
   ]
  },
  {
   "cell_type": "code",
   "execution_count": null,
   "id": "981fe3fd",
   "metadata": {},
   "outputs": [],
   "source": [
    "import catboost\n",
    "cb_clf = catboost.CatBoostClassifier(\n",
    "           task_type = \"GPU\"\n",
    ")\n",
    "\n",
    "\n",
    "X_train_resampled, y_train_resampled = ros.fit_resample(X.iloc[train_index], y.iloc[train_index])\n",
    "skf =  StratifiedShuffleSplit(n_splits=1, test_size=.2)\n",
    "for dev_index, val_index in skf.split(X_train_resampled, y_train_resampled):\n",
    "    pass   \n",
    "d_dev = catboost.Pool(\n",
    "    data = X_train_resampled.iloc[dev_index],\n",
    "    label = y_train_resampled.iloc[dev_index],\n",
    "    feature_names = feature_names,\n",
    "    cat_features = cat_features\n",
    ")\n",
    "d_val = catboost.Pool(\n",
    "    data = X_train_resampled.iloc[val_index],\n",
    "    label = y_train_resampled.iloc[val_index],\n",
    "    feature_names = feature_names,\n",
    "    cat_features = cat_features\n",
    ")\n",
    "\n",
    "cb_clf.fit(X = d_dev,\n",
    "          use_best_model=True,\n",
    "           eval_set = d_val,\n",
    "           verbose_eval=False,\n",
    "           early_stopping_rounds=20,\n",
    "           plot=True\n",
    "          )\n",
    "catboost_ref_clf = cb_clf\n",
    "pred = cb_clf.predict(X.iloc[test_index])\n",
    "balanced_accuracy_score(y.iloc[test_index], pred), accuracy_score(y.iloc[test_index], pred)\n"
   ]
  },
  {
   "cell_type": "markdown",
   "id": "0d86438f",
   "metadata": {},
   "source": [
    "#### seperate balancing for dev and val"
   ]
  },
  {
   "cell_type": "code",
   "execution_count": null,
   "id": "7710244c",
   "metadata": {},
   "outputs": [],
   "source": [
    "import catboost\n",
    "cb_clf = catboost.CatBoostClassifier(\n",
    "           task_type = \"GPU\")\n",
    "\n",
    "\n",
    "skf =  StratifiedShuffleSplit(n_splits=1, test_size=.2)\n",
    "for dev_index, val_index in skf.split(X.iloc[train_index], y.iloc[train_index]):\n",
    "    pass   \n",
    "\n",
    "X_dev_balanced, y_dev_balanced = ros.fit_resample(X.iloc[train_index].iloc[dev_index], y.iloc[train_index].iloc[dev_index])\n",
    "d_dev = catboost.Pool(\n",
    "    data = X_dev_balanced,\n",
    "    label = y_dev_balanced,\n",
    "    feature_names = feature_names,\n",
    "    cat_features = cat_features\n",
    ")\n",
    "\n",
    "X_val_balanced, y_val_balanced = ros.fit_resample(X.iloc[train_index].iloc[val_index], y.iloc[train_index].iloc[val_index])\n",
    "d_val = catboost.Pool(\n",
    "    data = X_val_balanced,\n",
    "    label = y_val_balanced,\n",
    "    feature_names = feature_names,\n",
    "    cat_features = cat_features\n",
    ")\n",
    "\n",
    "cb_clf.fit(X = d_dev,\n",
    "          use_best_model=True,\n",
    "           eval_set = d_val,\n",
    "           verbose_eval=False,\n",
    "           early_stopping_rounds=20,\n",
    "           plot=True\n",
    "          )\n",
    "\n",
    "pred = cb_clf.predict(X.iloc[test_index])\n",
    "balanced_accuracy_score(y.iloc[test_index], pred), accuracy_score(y.iloc[test_index], pred)\n"
   ]
  },
  {
   "cell_type": "code",
   "execution_count": null,
   "id": "582144bb",
   "metadata": {},
   "outputs": [],
   "source": []
  },
  {
   "cell_type": "code",
   "execution_count": null,
   "id": "f22f5095",
   "metadata": {},
   "outputs": [],
   "source": []
  },
  {
   "cell_type": "markdown",
   "id": "db9f37ce",
   "metadata": {},
   "source": [
    "## Feature Selection"
   ]
  },
  {
   "cell_type": "code",
   "execution_count": null,
   "id": "b603aec4",
   "metadata": {},
   "outputs": [],
   "source": [
    "def regress(alg: str,\n",
    "            X: pd.DataFrame,\n",
    "            y: np.ndarray,\n",
    "            cat_features: Iterable[str] = None,\n",
    "            params: Dict[str, any] = None,\n",
    "            random_state: int = None):\n",
    "    if alg.lower() == 'lasso':\n",
    "        cls = LassoCV\n",
    "    elif alg.lower() == 'elastic':\n",
    "        cls = ElasticNetCV\n",
    "    else:\n",
    "        raise ValueError('\"alg\" should be one of \"lasso\" or \"elastic\"')\n",
    "\n",
    "    cv = StratifiedKFold(shuffle=False if random_state is None else True, random_state=random_state)\n",
    "    params_ = dict() if params is None else params\n",
    "    classifier = cls(cv=cv, **params_)\n",
    "    M_cat = X.columns.isin([] if cat_features is None else cat_features)\n",
    "    I_num, I_cat = np.flatnonzero(~M_cat), np.flatnonzero(M_cat)\n",
    "    X_num = StandardScaler().fit_transform(X.iloc[:, I_num])\n",
    "\n",
    "    with warnings.catch_warnings():\n",
    "        warnings.simplefilter(\"ignore\")\n",
    "        classifier.fit(X=X_num, y=y)\n",
    "\n",
    "    betas = np.concatenate((classifier.coef_, np.repeat(np.inf, len(I_cat))))\n",
    "    I = np.argsort(np.concatenate((I_num, I_cat), axis=0))\n",
    "\n",
    "    return {k: v for k, v in zip(X.columns, betas[I])}"
   ]
  },
  {
   "cell_type": "code",
   "execution_count": null,
   "id": "43a9dfb6",
   "metadata": {},
   "outputs": [],
   "source": []
  }
 ],
 "metadata": {
  "kernelspec": {
   "display_name": "boost-nids",
   "language": "python",
   "name": "boost-nids"
  },
  "language_info": {
   "codemirror_mode": {
    "name": "ipython",
    "version": 3
   },
   "file_extension": ".py",
   "mimetype": "text/x-python",
   "name": "python",
   "nbconvert_exporter": "python",
   "pygments_lexer": "ipython3",
   "version": "3.7.10"
  }
 },
 "nbformat": 4,
 "nbformat_minor": 5
}
